{
 "cells": [
  {
   "cell_type": "markdown",
   "source": [
    "# Setup \n",
    "Here we install the required packages for this application. Additionally, we will remove a single line from the ImageMagick policy that would have prevented this code from running, create our experiments directory, and restart the kernel. \n",
    "\n",
    "> Note: We need to restart the kernel due to an odd behavior from MoviePy that stops this from working in the same session as the install.\n",
    "\n",
    "> Just move onto the next section of this notebook after running the install cell below. \n",
    "\n",
    "> We should be especially wary of this if we intend to 'Run All' cells, as it will catch here."
   ],
   "metadata": {}
  },
  {
   "cell_type": "code",
   "execution_count": null,
   "source": [
    "import os\n",
    "!pip install -r requirements.txt\n",
    "!pip install git+https://github.com/openai/whisper.git \n",
    "!pip install yt-dlp\n",
    "!pip install moviepy --upgrade\n",
    "!apt-get update\n",
    "!apt install imagemagick -y\n",
    "# remove line 88 of vim ~/../etc/ImageMagick-6/policy.xml to run MoviePy\n",
    "!sed -i '88d' ~/../etc/ImageMagick-6/policy.xml \n",
    "!mkdir experiments\n",
    "os._exit(00)"
   ],
   "outputs": [],
   "metadata": {
    "collapsed": true,
    "execution": {
     "iopub.execute_input": "2022-10-05T21:54:14.523546Z",
     "iopub.status.busy": "2022-10-05T21:54:14.523244Z"
    },
    "jupyter": {
     "outputs_hidden": true
    }
   }
  },
  {
   "cell_type": "markdown",
   "source": [
    "# The function\n",
    "\n",
    "The `subtitle_video` function does all the work for us to autocaption our supplied video with the generated text captions from Whisper at the correct time stamps.\n",
    "\n",
    "This works for both youtube links and videos uploaded directly to this Notebook, and will automatically scale the size of the captions to the video size.\n",
    "\n",
    "See the params notes section of the start of the function and the function call below for more details on the arguments for this function."
   ],
   "metadata": {}
  },
  {
   "cell_type": "code",
   "execution_count": 1,
   "source": [
    "## Imports\n",
    "from __future__ import unicode_literals\n",
    "from yt_dlp import YoutubeDL\n",
    "import yt_dlp\n",
    "from IPython.display import Video\n",
    "import whisper\n",
    "import cv2\n",
    "import pandas as pd\n",
    "from moviepy.editor import VideoFileClip\n",
    "import moviepy.editor as mp\n",
    "from IPython.display import display, Markdown\n",
    "from moviepy.editor import *\n",
    "from moviepy.video.tools.subtitles import SubtitlesClip\n",
    "import os\n",
    "\n",
    "import cv2\n",
    "\n",
    "def subtitle_video(download, url, aud_opts, vid_opts, model_type, name, audio_file, input_file, output, uploaded_vid = None):\n",
    "# ------------------------------------------------------------------------------------------------------------------------------\n",
    "#     Params:\n",
    "# ------------------------------------------------------------------------------------------------------------------------------\n",
    "#     download:      bool, this tells your function if you are downloading a youtube video\n",
    "#     url: str,      str, the URL of youtube video to download if download is True\n",
    "#     aud_opts:      dict, audio file youtube-dl options \n",
    "#     vid_opts:      dict, video file youtube-dl options    \n",
    "#     model_type:    str, which pretrained model to download. Options are:\n",
    "#                    ['tiny', 'small', 'base', 'medium','large','tiny.en', 'small.en', 'base.en', 'medium.en']\n",
    "#                    More details about model_types can be found in table in original repo here:\n",
    "#                    https://github.com/openai/whisper#Available-models-and-languages\n",
    "#.    name:          str, name of directory to store files in in experiments folder\n",
    "#     audio_file:    str, path to extracted audio file for Whisper\n",
    "#     input_file:    str, path to video file for MoviePy to caption\n",
    "#     output:        str, destination of final output video file\n",
    "#     uploaded_vid:  str, path to uploaded video file if download is False\n",
    "#     \n",
    "#--------------------------------------------------------------------------------------------------------------------------------\n",
    "#     Returns:       An annotated video with translated captions into english, saved to name/output\n",
    "#--------------------------------------------------------------------------------------------------------------------------------\n",
    "    \n",
    "    ## First, this checks if your expermiment name is taken. If not, it will create the directory.\n",
    "    ## Otherwise, we will be prompted to retry with a new name\n",
    "    try:\n",
    "        os.mkdir(f'experiments/{name}')\n",
    "        print('Starting AutoCaptioning...')\n",
    "        print(f'Results will be stored in experiments/{name}')\n",
    "        \n",
    "    except:\n",
    "        return print('Choose another folder name! This one already has files in it.')\n",
    "    \n",
    "    ## Use audio and video options for youtube-dl if downloading from youtube\n",
    "    vid_opts['outtmpl'] = f'experiments/{name}/{input_file}'\n",
    "    aud_opts['outtmpl'] = f'experiments/{name}/{audio_file}'\n",
    "\n",
    "    URLS = [url]\n",
    "    if download:\n",
    "        with YoutubeDL(aud_opts) as ydl:\n",
    "            ydl.download(url)\n",
    "        with YoutubeDL(vid_opts) as ydl:\n",
    "            ydl.download(URLS)\n",
    "    else:\n",
    "        # Use local clip if not downloading from youtube\n",
    "        my_clip = mp.VideoFileClip(uploaded_vid)\n",
    "        my_clip.audio.write_audiofile(f'experiments/{name}/{audio_file}')\n",
    "\n",
    "    # Instantiate whisper model using model_type variable\n",
    "    model = whisper.load_model(model_type)\n",
    "    \n",
    "    # Get text from speech for subtitles from audio file\n",
    "    result = model.transcribe(f'experiments/{name}/{audio_file}', task = 'translate')\n",
    "    \n",
    "    # create Subtitle dataframe, and save it\n",
    "    dict1 = {'start':[], 'end':[], 'text':[]}\n",
    "    for i in result['segments']:\n",
    "        dict1['start'].append(int(i['start']))\n",
    "        dict1['end'].append(int(i['end']))\n",
    "        dict1['text'].append(i['text'])\n",
    "    df = pd.DataFrame.from_dict(dict1)\n",
    "    df.to_csv(f'experiments/{name}/subs.csv')\n",
    "    vidcap = cv2.VideoCapture(f'experiments/{name}/{input_file}')\n",
    "    success,image = vidcap.read()\n",
    "    height = image.shape[0]\n",
    "    width =image.shape[1]\n",
    "\n",
    "    # Instantiate MoviePy subtitle generator with TextClip, subtitles, and SubtitlesClip\n",
    "    generator = lambda txt: TextClip(txt, font='P052-Bold', fontsize=width/50, stroke_width=.7, color='white', stroke_color = 'black', size = (width, height*.25), method='caption')\n",
    "    # generator = lambda txt: TextClip(txt, color='white', fontsize=20, font='Georgia-Regular',stroke_width=3, method='caption', align='south', size=video.size)\n",
    "    subs = tuple(zip(tuple(zip(df['start'].values, df['end'].values)), df['text'].values))\n",
    "    subtitles = SubtitlesClip(subs, generator)\n",
    "    \n",
    "    # Ff the file was on youtube, add the captions to the downloaded video\n",
    "    if download:\n",
    "        video = VideoFileClip(f'experiments/{name}/{input_file}')\n",
    "        final = CompositeVideoClip([video, subtitles.set_pos(('center','bottom'))])\n",
    "        final.write_videofile(f'experiments/{name}/{output}', fps=video.fps, remove_temp=True, codec=\"libx264\", audio_codec=\"aac\")\n",
    "    else:\n",
    "        # If the file was a local upload:\n",
    "        video = VideoFileClip(uploaded_vid)\n",
    "        final = CompositeVideoClip([video, subtitles.set_pos(('center','bottom'))])\n",
    "        final.write_videofile(f'experiments/{name}/{output}', fps=video.fps, remove_temp=True, codec=\"libx264\", audio_codec=\"aac\")\n",
    "\n",
    "\n"
   ],
   "outputs": [],
   "metadata": {
    "execution": {
     "iopub.execute_input": "2022-10-05T21:56:20.906294Z",
     "iopub.status.busy": "2022-10-05T21:56:20.905757Z",
     "iopub.status.idle": "2022-10-05T21:56:22.755680Z",
     "shell.execute_reply": "2022-10-05T21:56:22.755098Z",
     "shell.execute_reply.started": "2022-10-05T21:56:20.906229Z"
    }
   }
  },
  {
   "cell_type": "markdown",
   "source": [
    "## Declare relevant variables"
   ],
   "metadata": {}
  },
  {
   "cell_type": "code",
   "execution_count": 2,
   "source": [
    "# Options for youtube download to ensure we get a high quality audio file extraction. \n",
    "# This is key, as extracting from the video in the same download seemed to significantly affect caption Word Error Rate in our experiments.\n",
    "# Only modify these if needed. Lowered audio quality may inhibit the transcription's word error rate.\n",
    "opts_aud = {\n",
    "    'format': 'mp3/bestaudio/best',\n",
    "    'keep-video':True,\n",
    "    # ℹ️ See help(yt_dlp.postprocessor) for a list of available Postprocessors and their arguments\n",
    "    'postprocessors': [{  # Extract audio using ffmpeg\n",
    "        'key': 'FFmpegExtractAudio',\n",
    "        'preferredcodec': 'mp3',}]}\n",
    "\n",
    "# Options for youtube video to get right video file for final output\n",
    "opts_vid = {'format': 'mp4/bestvideo/best'}\n",
    "\n",
    "# Youtube URL\n",
    "URL = 'https://youtu.be/3DKDt693p8Y' # steamed hams in many languages, sample link\n"
   ],
   "outputs": [],
   "metadata": {
    "execution": {
     "iopub.execute_input": "2022-10-05T21:56:24.133478Z",
     "iopub.status.busy": "2022-10-05T21:56:24.132680Z",
     "iopub.status.idle": "2022-10-05T21:56:24.136635Z",
     "shell.execute_reply": "2022-10-05T21:56:24.136160Z",
     "shell.execute_reply.started": "2022-10-05T21:56:24.133454Z"
    }
   }
  },
  {
   "cell_type": "markdown",
   "source": [
    "# Generate subtitles\n",
    "\n",
    "To autocaption our video, we just simply fill in the fields below with the relevant values.\n",
    "\n",
    "The only required change is to the URL value if we would like that to be a different video from the sample. \n",
    "\n",
    "> Note: If we run into an error, we can try restarting the kernel and running these 3 code cells again. It is unclear why this happens, but MoviePy seems to require a restart to the kernel occasionally."
   ],
   "metadata": {}
  },
  {
   "cell_type": "code",
   "execution_count": 6,
   "source": [
    "subtitle_video(\n",
    "    download=True,\n",
    "    uploaded_vid=None,     # path to local file\n",
    "    url = URL,\n",
    "    name = 'run1',\n",
    "    aud_opts = opts_aud,\n",
    "    vid_opts = opts_vid,   # Video download settings\n",
    "    model_type = 'medium', # change to 'large' if you want more accurate results, \n",
    "                           #change to 'medium.en' or 'large.en' for all english language tasks,\n",
    "                           #and change to 'small' or 'base' for faster inference\n",
    "    audio_file = \"audio.mp3\",\n",
    "    input_file = 'video.mp4',\n",
    "    output = 'output.mp4')\n"
   ],
   "outputs": [],
   "metadata": {
    "execution": {
     "iopub.execute_input": "2022-10-05T22:05:49.836628Z",
     "iopub.status.busy": "2022-10-05T22:05:49.836067Z",
     "iopub.status.idle": "2022-10-05T22:05:49.839821Z",
     "shell.execute_reply": "2022-10-05T22:05:49.839173Z",
     "shell.execute_reply.started": "2022-10-05T22:05:49.836603Z"
    }
   }
  },
  {
   "cell_type": "markdown",
   "source": [
    "# Display your video output in markdown\n",
    "<video controls src=\"experiments/run1/output.mp4\" />\n"
   ],
   "metadata": {}
  },
  {
   "cell_type": "markdown",
   "source": [],
   "metadata": {}
  }
 ],
 "metadata": {
  "kernelspec": {
   "display_name": "Python 3 (ipykernel)",
   "language": "python",
   "name": "python3"
  },
  "language_info": {
   "codemirror_mode": {
    "name": "ipython",
    "version": 3
   },
   "file_extension": ".py",
   "mimetype": "text/x-python",
   "name": "python",
   "nbconvert_exporter": "python",
   "pygments_lexer": "ipython3",
   "version": "3.9.13"
  }
 },
 "nbformat": 4,
 "nbformat_minor": 5
}