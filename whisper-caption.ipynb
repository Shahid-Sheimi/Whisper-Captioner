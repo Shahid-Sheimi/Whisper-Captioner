{
 "cells": [
  {
   "cell_type": "code",
   "execution_count": null,
   "source": [
    "!pip install -r requirements.txt\n",
    "!pip install git+https://github.com/openai/whisper.git \n",
    "!pip install yt-dlp\n",
    "!pip install moviepy --upgrade\n",
    "!apt-get update\n",
    "!apt install imagemagick -y"
   ],
   "outputs": [],
   "metadata": {
    "execution": {
     "iopub.execute_input": "2022-10-04T23:28:47.002524Z",
     "iopub.status.busy": "2022-10-04T23:28:47.001932Z"
    }
   }
  },
  {
   "cell_type": "code",
   "execution_count": 1,
   "source": [
    "# remove line 88 of vim ~/../etc/ImageMagick-6/policy.xml\n",
    "!sed -i '88d' ~/../etc/ImageMagick-6/policy.xml "
   ],
   "outputs": [],
   "metadata": {
    "execution": {
     "iopub.execute_input": "2022-10-04T23:29:41.446798Z",
     "iopub.status.busy": "2022-10-04T23:29:41.446492Z",
     "iopub.status.idle": "2022-10-04T23:29:42.033163Z",
     "shell.execute_reply": "2022-10-04T23:29:42.032380Z",
     "shell.execute_reply.started": "2022-10-04T23:29:41.446737Z"
    }
   }
  },
  {
   "cell_type": "code",
   "execution_count": 3,
   "source": [
    "## Imports\n",
    "from __future__ import unicode_literals\n",
    "from yt_dlp import YoutubeDL\n",
    "import yt_dlp\n",
    "from IPython.display import Video\n",
    "import whisper\n",
    "import cv2\n",
    "import pandas as pd\n",
    "from moviepy.editor import VideoFileClip\n",
    "import moviepy.editor as mp\n",
    "from IPython.display import display, Markdown\n",
    "from moviepy.editor import *\n",
    "from moviepy.video.tools.subtitles import SubtitlesClip\n",
    "\n",
    "## Declare relevant variables\n",
    "\n",
    "# options for youtube download to ensure we get the right audio file\n",
    "ydl_opts = {\n",
    "    'format': 'mp3/bestaudio/best',\n",
    "    'outtmpl':'t/audio.mp3',\n",
    "    '-k':True,\n",
    "    # ℹ️ See help(yt_dlp.postprocessor) for a list of available Postprocessors and their arguments\n",
    "    'postprocessors': [{  # Extract audio using ffmpeg\n",
    "        'key': 'FFmpegExtractAudio',\n",
    "        'preferredcodec': 'mp3',\n",
    "    }]\n",
    "}\n",
    "# options for youtube video to get right video file for final output\n",
    "opts2 = {'format': 'mp4/bestvideo/best','outtmpl':'video.mp4'}\n",
    "\n",
    "# Youtube URL\n",
    "URL = 'https://youtu.be/MEJJh7tVr4E'\n",
    "\n",
    "def subtitle_video(download, url, opts, opts_, model_type, audio_file, input_file, output, uploaded_vid = None):\n",
    "#     params:\n",
    "#     download: Default is True. This tells your function if you are downloading a youtube video\n",
    "#     url: URL of youtube video\n",
    "#     opts: audio youtube-dl options\n",
    "#     opts_: video youtube-dl options    \n",
    "#     model_type: which pretrained model to download. options are ['tiny', 'small', 'base', 'medium','large']\n",
    "#     audio_file: path to extracted audio file\n",
    "#     input_file: path to video file\n",
    "#     output: destination of final output\n",
    "#     uploaded_vid: path to uploaded video file if download is False\n",
    "#     \n",
    "#--------------------------------------------------------\n",
    "#   Returns: annotated video with translated captions into english\n",
    "\n",
    "    URLS = [url]\n",
    "    if download:\n",
    "        with yt_dlp.YoutubeDL(opts) as ydl:\n",
    "            ydl.download(url)\n",
    "        with YoutubeDL(opts_) as ydl:\n",
    "            ydl.download(URLS)\n",
    "    else:\n",
    "        my_clip = mp.VideoFileClip(uploaded_vid)\n",
    "        my_clip.audio.write_audiofile('t/audio.mp3')\n",
    "\n",
    "    model = whisper.load_model(model_type)\n",
    "    result = model.transcribe(\"t/audio.mp3\", task = 'translate')\n",
    "    dict1 = {'start':[], 'end':[], 'text':[]}\n",
    "    for i in result['segments']:\n",
    "        dict1['start'].append(i['start'])\n",
    "        dict1['end'].append(i['end'])\n",
    "        dict1['text'].append(i['text'])\n",
    "    df = pd.DataFrame.from_dict(dict1)\n",
    "    generator = lambda txt: TextClip(txt, font='NimbusMonoPS-Bold', fontsize=24, color='white')\n",
    "    subs = tuple(zip(tuple(zip(df['start'].values, df['end'].values)), df['text'].values))\n",
    "    subtitles = SubtitlesClip(subs, generator)\n",
    "    if download:\n",
    "        video = VideoFileClip(\"video.mp4\")\n",
    "        final = CompositeVideoClip([video, subtitles.set_pos(('center','bottom'))])\n",
    "        final.write_videofile(output, fps=video.fps, remove_temp=True, codec=\"libx264\", audio_codec=\"aac\")\n",
    "    else:\n",
    "        video = VideoFileClip(uploaded_vid)\n",
    "        final = CompositeVideoClip([video, subtitles.set_pos(('center','bottom'))])\n",
    "        final.write_videofile(output, fps=video.fps, remove_temp=True, codec=\"libx264\", audio_codec=\"aac\")\n",
    "\n",
    "\n"
   ],
   "outputs": [
    {
     "output_type": "stream",
     "name": "stdout",
     "text": [
      "MoviePy - Writing audio in t/audio.mp3\n"
     ]
    },
    {
     "output_type": "stream",
     "name": "stderr",
     "text": [
      "                                                                      \r"
     ]
    },
    {
     "output_type": "stream",
     "name": "stdout",
     "text": [
      "MoviePy - Done.\n",
      "Moviepy - Building video output2.mp4.\n",
      "MoviePy - Writing audio in output2TEMP_MPY_wvf_snd.mp4\n"
     ]
    },
    {
     "output_type": "stream",
     "name": "stderr",
     "text": [
      "                                                                      \r"
     ]
    },
    {
     "output_type": "stream",
     "name": "stdout",
     "text": [
      "MoviePy - Done.\n",
      "Moviepy - Writing video output2.mp4\n",
      "\n"
     ]
    },
    {
     "output_type": "stream",
     "name": "stderr",
     "text": [
      "                                                                 \r"
     ]
    },
    {
     "output_type": "stream",
     "name": "stdout",
     "text": [
      "Moviepy - Done !\n",
      "Moviepy - video ready output2.mp4\n"
     ]
    }
   ],
   "metadata": {
    "execution": {
     "iopub.execute_input": "2022-10-05T00:27:56.424058Z",
     "iopub.status.busy": "2022-10-05T00:27:56.423374Z",
     "iopub.status.idle": "2022-10-05T00:28:49.358226Z",
     "shell.execute_reply": "2022-10-05T00:28:49.356630Z",
     "shell.execute_reply.started": "2022-10-05T00:27:56.424026Z"
    }
   }
  },
  {
   "cell_type": "code",
   "execution_count": null,
   "source": [
    "subtitle_video(download=False, uploaded_vid=None, url=URL, opts=ydl_opts, opts_={\n",
    "               'format': 'mp4/bestvideo/best', 'outtmpl': 'video.mp4'}, model_type='large', audio_file=\"t/audio.mp3\", input_file='video.mp4', output='output2.mp4')\n"
   ],
   "outputs": [],
   "metadata": {}
  },
  {
   "cell_type": "markdown",
   "source": [
    "<video controls src=\"output.mp4\" />"
   ],
   "metadata": {}
  }
 ],
 "metadata": {
  "kernelspec": {
   "display_name": "Python 3 (ipykernel)",
   "language": "python",
   "name": "python3"
  },
  "language_info": {
   "codemirror_mode": {
    "name": "ipython",
    "version": 3
   },
   "file_extension": ".py",
   "mimetype": "text/x-python",
   "name": "python",
   "nbconvert_exporter": "python",
   "pygments_lexer": "ipython3",
   "version": "3.9.13"
  }
 },
 "nbformat": 4,
 "nbformat_minor": 5
}