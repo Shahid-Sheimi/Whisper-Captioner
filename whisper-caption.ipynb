{
 "cells": [
  {
   "cell_type": "markdown",
   "source": [
    "# Setup \n",
    "Here we install the required packages for this application. Additionally, we will remove a single line from the ImageMagick policy that would have prevented this code from running, create our experiments directory, and restart the kernel. \n",
    "\n",
    "> Note: We need to restart the kernel due to an odd behavior from MoviePy that stops this from working in the same session as the install.\n",
    "\n",
    "> Just move onto the next section of this notebook after running the install cell below. \n",
    "\n",
    "> We should be especially wary of this if we intend to 'Run All' cells, as it will catch here."
   ],
   "metadata": {}
  },
  {
   "cell_type": "code",
   "execution_count": null,
   "source": [
    "import os\n",
    "!pip install -r requirements.txt\n",
    "!pip install git+https://github.com/openai/whisper.git \n",
    "!pip install yt-dlp\n",
    "!pip install moviepy --upgrade\n",
    "!apt-get update\n",
    "!apt install imagemagick -y\n",
    "# remove line 88 of vim ~/../etc/ImageMagick-6/policy.xml to run MoviePy\n",
    "!sed -i '88d' ~/../etc/ImageMagick-6/policy.xml \n",
    "!mkdir experiments\n",
    "os._exit(00)"
   ],
   "outputs": [
    {
     "output_type": "stream",
     "name": "stdout",
     "text": [
      "Requirement already satisfied: numpy in /Users/jamesskeltonps/opt/anaconda3/lib/python3.8/site-packages (from -r requirements.txt (line 1)) (1.22.4)\n",
      "Requirement already satisfied: torch in /Users/jamesskeltonps/opt/anaconda3/lib/python3.8/site-packages (from -r requirements.txt (line 2)) (1.10.1)\n",
      "Requirement already satisfied: tqdm in /Users/jamesskeltonps/opt/anaconda3/lib/python3.8/site-packages (from -r requirements.txt (line 3)) (4.59.0)\n",
      "Requirement already satisfied: more-itertools in /Users/jamesskeltonps/opt/anaconda3/lib/python3.8/site-packages (from -r requirements.txt (line 4)) (8.7.0)\n",
      "Requirement already satisfied: transformers>=4.19.0 in /Users/jamesskeltonps/opt/anaconda3/lib/python3.8/site-packages (from -r requirements.txt (line 5)) (4.23.0)\n",
      "Requirement already satisfied: ffmpeg-python==0.2.0 in /Users/jamesskeltonps/opt/anaconda3/lib/python3.8/site-packages (from -r requirements.txt (line 6)) (0.2.0)\n",
      "Requirement already satisfied: future in /Users/jamesskeltonps/opt/anaconda3/lib/python3.8/site-packages (from ffmpeg-python==0.2.0->-r requirements.txt (line 6)) (0.18.2)\n",
      "Requirement already satisfied: packaging>=20.0 in /Users/jamesskeltonps/opt/anaconda3/lib/python3.8/site-packages (from transformers>=4.19.0->-r requirements.txt (line 5)) (20.9)\n",
      "Requirement already satisfied: huggingface-hub<1.0,>=0.10.0 in /Users/jamesskeltonps/opt/anaconda3/lib/python3.8/site-packages (from transformers>=4.19.0->-r requirements.txt (line 5)) (0.10.0)\n",
      "Requirement already satisfied: requests in /Users/jamesskeltonps/opt/anaconda3/lib/python3.8/site-packages (from transformers>=4.19.0->-r requirements.txt (line 5)) (2.28.1)\n",
      "Requirement already satisfied: pyyaml>=5.1 in /Users/jamesskeltonps/opt/anaconda3/lib/python3.8/site-packages (from transformers>=4.19.0->-r requirements.txt (line 5)) (5.4.1)\n",
      "Requirement already satisfied: filelock in /Users/jamesskeltonps/opt/anaconda3/lib/python3.8/site-packages (from transformers>=4.19.0->-r requirements.txt (line 5)) (3.0.12)\n",
      "Requirement already satisfied: regex!=2019.12.17 in /Users/jamesskeltonps/opt/anaconda3/lib/python3.8/site-packages (from transformers>=4.19.0->-r requirements.txt (line 5)) (2021.4.4)\n",
      "Requirement already satisfied: tokenizers!=0.11.3,<0.14,>=0.11.1 in /Users/jamesskeltonps/opt/anaconda3/lib/python3.8/site-packages (from transformers>=4.19.0->-r requirements.txt (line 5)) (0.13.1)\n",
      "Requirement already satisfied: typing-extensions>=3.7.4.3 in /Users/jamesskeltonps/opt/anaconda3/lib/python3.8/site-packages (from huggingface-hub<1.0,>=0.10.0->transformers>=4.19.0->-r requirements.txt (line 5)) (3.7.4.3)\n",
      "Requirement already satisfied: pyparsing>=2.0.2 in /Users/jamesskeltonps/opt/anaconda3/lib/python3.8/site-packages (from packaging>=20.0->transformers>=4.19.0->-r requirements.txt (line 5)) (2.4.7)\n",
      "Requirement already satisfied: idna<4,>=2.5 in /Users/jamesskeltonps/opt/anaconda3/lib/python3.8/site-packages (from requests->transformers>=4.19.0->-r requirements.txt (line 5)) (2.8)\n",
      "Requirement already satisfied: certifi>=2017.4.17 in /Users/jamesskeltonps/opt/anaconda3/lib/python3.8/site-packages (from requests->transformers>=4.19.0->-r requirements.txt (line 5)) (2020.12.5)\n",
      "Requirement already satisfied: charset-normalizer<3,>=2 in /Users/jamesskeltonps/opt/anaconda3/lib/python3.8/site-packages (from requests->transformers>=4.19.0->-r requirements.txt (line 5)) (2.1.0)\n",
      "Requirement already satisfied: urllib3<1.27,>=1.21.1 in /Users/jamesskeltonps/opt/anaconda3/lib/python3.8/site-packages (from requests->transformers>=4.19.0->-r requirements.txt (line 5)) (1.25.11)\n",
      "Collecting git+https://github.com/openai/whisper.git\n",
      "  Cloning https://github.com/openai/whisper.git to /private/var/folders/v4/99sk5grx0nq30_b1147q1zx40000gp/T/pip-req-build-ujm6f6dd\n",
      "  Running command git clone -q https://github.com/openai/whisper.git /private/var/folders/v4/99sk5grx0nq30_b1147q1zx40000gp/T/pip-req-build-ujm6f6dd\n",
      "Requirement already satisfied: numpy in /Users/jamesskeltonps/opt/anaconda3/lib/python3.8/site-packages (from whisper==1.0) (1.22.4)\n",
      "Requirement already satisfied: torch in /Users/jamesskeltonps/opt/anaconda3/lib/python3.8/site-packages (from whisper==1.0) (1.10.1)\n",
      "Requirement already satisfied: tqdm in /Users/jamesskeltonps/opt/anaconda3/lib/python3.8/site-packages (from whisper==1.0) (4.59.0)\n",
      "Requirement already satisfied: more-itertools in /Users/jamesskeltonps/opt/anaconda3/lib/python3.8/site-packages (from whisper==1.0) (8.7.0)\n",
      "Requirement already satisfied: transformers>=4.19.0 in /Users/jamesskeltonps/opt/anaconda3/lib/python3.8/site-packages (from whisper==1.0) (4.23.0)\n",
      "Requirement already satisfied: ffmpeg-python==0.2.0 in /Users/jamesskeltonps/opt/anaconda3/lib/python3.8/site-packages (from whisper==1.0) (0.2.0)\n",
      "Requirement already satisfied: future in /Users/jamesskeltonps/opt/anaconda3/lib/python3.8/site-packages (from ffmpeg-python==0.2.0->whisper==1.0) (0.18.2)\n",
      "Requirement already satisfied: requests in /Users/jamesskeltonps/opt/anaconda3/lib/python3.8/site-packages (from transformers>=4.19.0->whisper==1.0) (2.28.1)\n",
      "Requirement already satisfied: tokenizers!=0.11.3,<0.14,>=0.11.1 in /Users/jamesskeltonps/opt/anaconda3/lib/python3.8/site-packages (from transformers>=4.19.0->whisper==1.0) (0.13.1)\n",
      "Requirement already satisfied: pyyaml>=5.1 in /Users/jamesskeltonps/opt/anaconda3/lib/python3.8/site-packages (from transformers>=4.19.0->whisper==1.0) (5.4.1)\n",
      "Requirement already satisfied: packaging>=20.0 in /Users/jamesskeltonps/opt/anaconda3/lib/python3.8/site-packages (from transformers>=4.19.0->whisper==1.0) (20.9)\n",
      "Requirement already satisfied: huggingface-hub<1.0,>=0.10.0 in /Users/jamesskeltonps/opt/anaconda3/lib/python3.8/site-packages (from transformers>=4.19.0->whisper==1.0) (0.10.0)\n",
      "Requirement already satisfied: filelock in /Users/jamesskeltonps/opt/anaconda3/lib/python3.8/site-packages (from transformers>=4.19.0->whisper==1.0) (3.0.12)\n",
      "Requirement already satisfied: regex!=2019.12.17 in /Users/jamesskeltonps/opt/anaconda3/lib/python3.8/site-packages (from transformers>=4.19.0->whisper==1.0) (2021.4.4)\n",
      "Requirement already satisfied: typing-extensions>=3.7.4.3 in /Users/jamesskeltonps/opt/anaconda3/lib/python3.8/site-packages (from huggingface-hub<1.0,>=0.10.0->transformers>=4.19.0->whisper==1.0) (3.7.4.3)\n",
      "Requirement already satisfied: pyparsing>=2.0.2 in /Users/jamesskeltonps/opt/anaconda3/lib/python3.8/site-packages (from packaging>=20.0->transformers>=4.19.0->whisper==1.0) (2.4.7)\n",
      "Requirement already satisfied: urllib3<1.27,>=1.21.1 in /Users/jamesskeltonps/opt/anaconda3/lib/python3.8/site-packages (from requests->transformers>=4.19.0->whisper==1.0) (1.25.11)\n",
      "Requirement already satisfied: certifi>=2017.4.17 in /Users/jamesskeltonps/opt/anaconda3/lib/python3.8/site-packages (from requests->transformers>=4.19.0->whisper==1.0) (2020.12.5)\n",
      "Requirement already satisfied: charset-normalizer<3,>=2 in /Users/jamesskeltonps/opt/anaconda3/lib/python3.8/site-packages (from requests->transformers>=4.19.0->whisper==1.0) (2.1.0)\n",
      "Requirement already satisfied: idna<4,>=2.5 in /Users/jamesskeltonps/opt/anaconda3/lib/python3.8/site-packages (from requests->transformers>=4.19.0->whisper==1.0) (2.8)\n",
      "Building wheels for collected packages: whisper\n",
      "  Building wheel for whisper (setup.py) ... \u001b[?25ldone\n",
      "\u001b[?25h  Created wheel for whisper: filename=whisper-1.0-py3-none-any.whl size=1175144 sha256=f49d7b375130b32425dedf9fbd3833f81959cbec2aaf68b4b4b6d9dd902b2c81\n",
      "  Stored in directory: /private/var/folders/v4/99sk5grx0nq30_b1147q1zx40000gp/T/pip-ephem-wheel-cache-tqgc520y/wheels/a7/70/18/b7693c07b1d18b3dafb328f5d0496aa0d41a9c09ef332fd8e6\n",
      "Successfully built whisper\n",
      "Installing collected packages: whisper\n",
      "Successfully installed whisper-1.0\n",
      "Requirement already satisfied: yt-dlp in /Users/jamesskeltonps/opt/anaconda3/lib/python3.8/site-packages (2022.10.4)\n",
      "Requirement already satisfied: websockets in /Users/jamesskeltonps/opt/anaconda3/lib/python3.8/site-packages (from yt-dlp) (10.3)\n",
      "Requirement already satisfied: certifi in /Users/jamesskeltonps/opt/anaconda3/lib/python3.8/site-packages (from yt-dlp) (2020.12.5)\n",
      "Requirement already satisfied: mutagen in /Users/jamesskeltonps/opt/anaconda3/lib/python3.8/site-packages (from yt-dlp) (1.46.0)\n",
      "Requirement already satisfied: pycryptodomex in /Users/jamesskeltonps/opt/anaconda3/lib/python3.8/site-packages (from yt-dlp) (3.15.0)\n",
      "Requirement already satisfied: brotli in /Users/jamesskeltonps/opt/anaconda3/lib/python3.8/site-packages (from yt-dlp) (1.0.9)\n"
     ]
    },
    {
     "output_type": "stream",
     "name": "stdout",
     "text": [
      "Requirement already satisfied: moviepy in /Users/jamesskeltonps/opt/anaconda3/lib/python3.8/site-packages (1.0.3)\n",
      "Requirement already satisfied: tqdm<5.0,>=4.11.2 in /Users/jamesskeltonps/opt/anaconda3/lib/python3.8/site-packages (from moviepy) (4.59.0)\n",
      "Requirement already satisfied: requests<3.0,>=2.8.1 in /Users/jamesskeltonps/opt/anaconda3/lib/python3.8/site-packages (from moviepy) (2.28.1)\n",
      "Requirement already satisfied: proglog<=1.0.0 in /Users/jamesskeltonps/opt/anaconda3/lib/python3.8/site-packages (from moviepy) (0.1.10)\n",
      "Requirement already satisfied: numpy in /Users/jamesskeltonps/opt/anaconda3/lib/python3.8/site-packages (from moviepy) (1.22.4)\n",
      "Requirement already satisfied: decorator<5.0,>=4.0.2 in /Users/jamesskeltonps/opt/anaconda3/lib/python3.8/site-packages (from moviepy) (4.4.2)\n",
      "Requirement already satisfied: imageio-ffmpeg>=0.2.0 in /Users/jamesskeltonps/opt/anaconda3/lib/python3.8/site-packages (from moviepy) (0.4.7)\n",
      "Requirement already satisfied: imageio<3.0,>=2.5 in /Users/jamesskeltonps/opt/anaconda3/lib/python3.8/site-packages (from moviepy) (2.9.0)\n",
      "Requirement already satisfied: pillow in /Users/jamesskeltonps/opt/anaconda3/lib/python3.8/site-packages (from imageio<3.0,>=2.5->moviepy) (8.2.0)\n",
      "Requirement already satisfied: certifi>=2017.4.17 in /Users/jamesskeltonps/opt/anaconda3/lib/python3.8/site-packages (from requests<3.0,>=2.8.1->moviepy) (2020.12.5)\n",
      "Requirement already satisfied: idna<4,>=2.5 in /Users/jamesskeltonps/opt/anaconda3/lib/python3.8/site-packages (from requests<3.0,>=2.8.1->moviepy) (2.8)\n",
      "Requirement already satisfied: charset-normalizer<3,>=2 in /Users/jamesskeltonps/opt/anaconda3/lib/python3.8/site-packages (from requests<3.0,>=2.8.1->moviepy) (2.1.0)\n",
      "Requirement already satisfied: urllib3<1.27,>=1.21.1 in /Users/jamesskeltonps/opt/anaconda3/lib/python3.8/site-packages (from requests<3.0,>=2.8.1->moviepy) (1.25.11)\n",
      "zsh:1: command not found: apt-get\n",
      "The operation couldn’t be completed. Unable to locate a Java Runtime that supports apt.\n",
      "Please visit http://www.java.com for information on installing Java.\n",
      "\n",
      "sed: 1: \"/Users/jamesskeltonps/. ...\": invalid command code j\n"
     ]
    }
   ],
   "metadata": {
    "execution": {
     "iopub.execute_input": "2022-10-05T21:54:14.523546Z",
     "iopub.status.busy": "2022-10-05T21:54:14.523244Z"
    },
    "jupyter": {
     "outputs_hidden": true
    }
   }
  },
  {
   "cell_type": "markdown",
   "source": [
    "# The function\n",
    "\n",
    "The `subtitle_video` function does all the work for us to autocaption our supplied video with the generated text captions from Whisper at the correct time stamps.\n",
    "\n",
    "This works for both youtube links and videos uploaded directly to this Notebook, and will automatically scale the size of the captions to the video size.\n",
    "\n",
    "See the params notes section of the start of the function and the function call below for more details on the arguments for this function."
   ],
   "metadata": {}
  },
  {
   "cell_type": "code",
   "execution_count": 1,
   "source": [
    "## Imports\n",
    "from __future__ import unicode_literals\n",
    "from yt_dlp import YoutubeDL\n",
    "import yt_dlp\n",
    "from IPython.display import Video\n",
    "import whisper\n",
    "import cv2\n",
    "import pandas as pd\n",
    "from moviepy.editor import VideoFileClip\n",
    "import moviepy.editor as mp\n",
    "from IPython.display import display, Markdown\n",
    "from moviepy.editor import *\n",
    "from moviepy.video.tools.subtitles import SubtitlesClip\n",
    "import os\n",
    "\n",
    "import cv2\n",
    "\n",
    "def subtitle_video(download, url, aud_opts, vid_opts, model_type, name, audio_file, input_file, output, uploaded_vid = None):\n",
    "# ------------------------------------------------------------------------------------------------------------------------------\n",
    "#     Params:\n",
    "# ------------------------------------------------------------------------------------------------------------------------------\n",
    "#     download:      bool, this tells your function if you are downloading a youtube video\n",
    "#     url: str,      str, the URL of youtube video to download if download is True\n",
    "#     aud_opts:      dict, audio file youtube-dl options \n",
    "#     vid_opts:      dict, video file youtube-dl options    \n",
    "#     model_type:    str, which pretrained model to download. Options are:\n",
    "#                    ['tiny', 'small', 'base', 'medium','large','tiny.en', 'small.en', 'base.en', 'medium.en']\n",
    "#                    More details about model_types can be found in table in original repo here:\n",
    "#                    https://github.com/openai/whisper#Available-models-and-languages\n",
    "#.    name:          str, name of directory to store files in in experiments folder\n",
    "#     audio_file:    str, path to extracted audio file for Whisper\n",
    "#     input_file:    str, path to video file for MoviePy to caption\n",
    "#     output:        str, destination of final output video file\n",
    "#     uploaded_vid:  str, path to uploaded video file if download is False\n",
    "#     \n",
    "#--------------------------------------------------------------------------------------------------------------------------------\n",
    "#     Returns:       An annotated video with translated captions into english, saved to name/output\n",
    "#--------------------------------------------------------------------------------------------------------------------------------\n",
    "    \n",
    "    ## First, this checks if your expermiment name is taken. If not, it will create the directory.\n",
    "    ## Otherwise, we will be prompted to retry with a new name\n",
    "    try:\n",
    "        os.mkdir(f'experiments/{name}')\n",
    "        print('Starting AutoCaptioning...')\n",
    "        print(f'Results will be stored in experiments/{name}')\n",
    "        \n",
    "    except:\n",
    "        return print('Choose another folder name! This one already has files in it.')\n",
    "    \n",
    "    ## Use audio and video options for youtube-dl if downloading from youtube\n",
    "    vid_opts['outtmpl'] = f'experiments/{name}/{input_file}'\n",
    "    aud_opts['outtmpl'] = f'experiments/{name}/{audio_file}'\n",
    "\n",
    "    URLS = [url]\n",
    "    if download:\n",
    "        with YoutubeDL(aud_opts) as ydl:\n",
    "            ydl.download(url)\n",
    "        with YoutubeDL(vid_opts) as ydl:\n",
    "            ydl.download(URLS)\n",
    "    else:\n",
    "        # Use local clip if not downloading from youtube\n",
    "        my_clip = mp.VideoFileClip(uploaded_vid)\n",
    "        my_clip.write_videofile(f'experiments/{name}/{input_file}')\n",
    "        my_clip.audio.write_audiofile(f'experiments/{name}/{audio_file}')\n",
    "\n",
    "    # Instantiate whisper model using model_type variable\n",
    "    model = whisper.load_model(model_type)\n",
    "    \n",
    "    # Get text from speech for subtitles from audio file\n",
    "    result = model.transcribe(f'experiments/{name}/{audio_file}', task = 'translate')\n",
    "    \n",
    "    # create Subtitle dataframe, and save it\n",
    "    dict1 = {'start':[], 'end':[], 'text':[]}\n",
    "    for i in result['segments']:\n",
    "        dict1['start'].append(int(i['start']))\n",
    "        dict1['end'].append(int(i['end']))\n",
    "        dict1['text'].append(i['text'])\n",
    "    df = pd.DataFrame.from_dict(dict1)\n",
    "    df.to_csv(f'experiments/{name}/subs.csv')\n",
    "    vidcap = cv2.VideoCapture(f'experiments/{name}/{input_file}')\n",
    "    success,image = vidcap.read()\n",
    "    height = image.shape[0]\n",
    "    width =image.shape[1]\n",
    "\n",
    "    # Instantiate MoviePy subtitle generator with TextClip, subtitles, and SubtitlesClip\n",
    "    generator = lambda txt: TextClip(txt, font='P052-Bold', fontsize=width/50, stroke_width=.7, color='white', stroke_color = 'black', size = (width, height*.25), method='caption')\n",
    "    # generator = lambda txt: TextClip(txt, color='white', fontsize=20, font='Georgia-Regular',stroke_width=3, method='caption', align='south', size=video.size)\n",
    "    subs = tuple(zip(tuple(zip(df['start'].values, df['end'].values)), df['text'].values))\n",
    "    subtitles = SubtitlesClip(subs, generator)\n",
    "    \n",
    "    # Ff the file was on youtube, add the captions to the downloaded video\n",
    "    if download:\n",
    "        video = VideoFileClip(f'experiments/{name}/{input_file}')\n",
    "        final = CompositeVideoClip([video, subtitles.set_pos(('center','bottom'))])\n",
    "        final.write_videofile(f'experiments/{name}/{output}', fps=video.fps, remove_temp=True, codec=\"libx264\", audio_codec=\"aac\")\n",
    "    else:\n",
    "        # If the file was a local upload:\n",
    "        video = VideoFileClip(uploaded_vid)\n",
    "        final = CompositeVideoClip([video, subtitles.set_pos(('center','bottom'))])\n",
    "        final.write_videofile(f'experiments/{name}/{output}', fps=video.fps, remove_temp=True, codec=\"libx264\", audio_codec=\"aac\")\n",
    "\n",
    "\n"
   ],
   "outputs": [],
   "metadata": {
    "execution": {
     "iopub.execute_input": "2022-10-05T21:56:20.906294Z",
     "iopub.status.busy": "2022-10-05T21:56:20.905757Z",
     "iopub.status.idle": "2022-10-05T21:56:22.755680Z",
     "shell.execute_reply": "2022-10-05T21:56:22.755098Z",
     "shell.execute_reply.started": "2022-10-05T21:56:20.906229Z"
    }
   }
  },
  {
   "cell_type": "markdown",
   "source": [
    "## Declare relevant variables"
   ],
   "metadata": {}
  },
  {
   "cell_type": "code",
   "execution_count": 2,
   "source": [
    "# Options for youtube download to ensure we get a high quality audio file extraction. \n",
    "# This is key, as extracting from the video in the same download seemed to significantly affect caption Word Error Rate in our experiments.\n",
    "# Only modify these if needed. Lowered audio quality may inhibit the transcription's word error rate.\n",
    "opts_aud = {\n",
    "    'format': 'mp3/bestaudio/best',\n",
    "    'keep-video':True,\n",
    "    # ℹ️ See help(yt_dlp.postprocessor) for a list of available Postprocessors and their arguments\n",
    "    'postprocessors': [{  # Extract audio using ffmpeg\n",
    "        'key': 'FFmpegExtractAudio',\n",
    "        'preferredcodec': 'mp3',}]}\n",
    "\n",
    "# Options for youtube video to get right video file for final output\n",
    "opts_vid = {'format': 'mp4/bestvideo/best'}\n",
    "\n",
    "# Youtube URL\n",
    "URL = 'https://youtu.be/3DKDt693p8Y' # steamed hams in many languages, sample link\n"
   ],
   "outputs": [],
   "metadata": {
    "execution": {
     "iopub.execute_input": "2022-10-05T21:56:24.133478Z",
     "iopub.status.busy": "2022-10-05T21:56:24.132680Z",
     "iopub.status.idle": "2022-10-05T21:56:24.136635Z",
     "shell.execute_reply": "2022-10-05T21:56:24.136160Z",
     "shell.execute_reply.started": "2022-10-05T21:56:24.133454Z"
    }
   }
  },
  {
   "cell_type": "markdown",
   "source": [
    "# Generate subtitles\n",
    "\n",
    "To autocaption our video, we just simply fill in the fields below with the relevant values.\n",
    "\n",
    "The only required change is to the URL value if we would like that to be a different video from the sample. \n",
    "\n",
    "> Note: If we run into an error, we can try restarting the kernel and running these 3 code cells again. It is unclear why this happens, but MoviePy seems to require a restart to the kernel occasionally."
   ],
   "metadata": {}
  },
  {
   "cell_type": "code",
   "execution_count": null,
   "source": [
    "subtitle_video(\n",
    "    download=True,\n",
    "    uploaded_vid=None,     # path to local file\n",
    "    url = URL,\n",
    "    name = 'run1',\n",
    "    aud_opts = opts_aud,\n",
    "    vid_opts = opts_vid,   # Video download settings\n",
    "    model_type = 'medium', # change to 'large' if you want more accurate results, \n",
    "                           #change to 'medium.en' or 'large.en' for all english language tasks,\n",
    "                           #and change to 'small' or 'base' for faster inference\n",
    "    audio_file = \"audio.mp3\",\n",
    "    input_file = 'video.mp4',\n",
    "    output = 'output.mp4')\n"
   ],
   "outputs": [
    {
     "output_type": "stream",
     "name": "stdout",
     "text": [
      "Starting AutoCaptioning...\n",
      "Results will be stored in experiments/run1\n",
      "[youtube] 3DKDt693p8Y: Downloading webpage\n",
      "[youtube] 3DKDt693p8Y: Downloading android player API JSON\n",
      "[youtube] 3DKDt693p8Y: Downloading player 7a062b77\n"
     ]
    },
    {
     "output_type": "stream",
     "name": "stderr",
     "text": [
      "WARNING: [youtube] 3DKDt693p8Y: nsig extraction failed: You may experience throttling for some formats\n",
      "         Install PhantomJS to workaround the issue. Please download it from https://phantomjs.org/download.html\n",
      "         n = kco1mNDgtDSxuZmO ; player = https://www.youtube.com/s/player/7a062b77/player_ias.vflset/en_US/base.js\n"
     ]
    },
    {
     "output_type": "stream",
     "name": "stdout",
     "text": [
      "[youtube] 3DKDt693p8Y: Downloading MPD manifest\n",
      "[youtube] 3DKDt693p8Y: Downloading MPD manifest\n",
      "[info] 3DKDt693p8Y: Downloading 1 format(s): 251\n",
      "[download] Destination: experiments/run1/audio.mp3\n",
      "[download] 100% of    5.79MiB in 00:00:00 at 6.06MiB/s   \n",
      "[ExtractAudio] Destination: experiments/run1/audio.mp3\n",
      "Deleting original file experiments/run1/audio.orig.mp3 (pass -k to keep)\n",
      "[youtube] 3DKDt693p8Y: Downloading webpage\n",
      "[youtube] 3DKDt693p8Y: Downloading android player API JSON\n"
     ]
    },
    {
     "output_type": "stream",
     "name": "stderr",
     "text": [
      "WARNING: [youtube] 3DKDt693p8Y: nsig extraction failed: You may experience throttling for some formats\n",
      "         Install PhantomJS to workaround the issue. Please download it from https://phantomjs.org/download.html\n",
      "         n = 0666VID_-yvj1lmU ; player = https://www.youtube.com/s/player/7a062b77/player_ias.vflset/en_US/base.js\n"
     ]
    },
    {
     "output_type": "stream",
     "name": "stdout",
     "text": [
      "[youtube] 3DKDt693p8Y: Downloading MPD manifest\n",
      "[youtube] 3DKDt693p8Y: Downloading MPD manifest\n",
      "[info] 3DKDt693p8Y: Downloading 1 format(s): 22\n",
      "[download] Destination: experiments/run1/video.mp4\n",
      "[download] 100% of   84.63MiB in 00:00:49 at 1.70MiB/s   \n"
     ]
    },
    {
     "output_type": "stream",
     "name": "stderr",
     "text": [
      "  5%|█▋                                   | 66.0M/1.42G [00:08<02:38, 9.19MiB/s]"
     ]
    }
   ],
   "metadata": {
    "execution": {
     "iopub.execute_input": "2022-10-05T22:05:49.836628Z",
     "iopub.status.busy": "2022-10-05T22:05:49.836067Z",
     "iopub.status.idle": "2022-10-05T22:05:49.839821Z",
     "shell.execute_reply": "2022-10-05T22:05:49.839173Z",
     "shell.execute_reply.started": "2022-10-05T22:05:49.836603Z"
    }
   }
  },
  {
   "cell_type": "markdown",
   "source": [
    "# Display your video output in markdown\n",
    "<video controls src=\"experiments/run1/output.mp4\" />\n"
   ],
   "metadata": {}
  },
  {
   "cell_type": "code",
   "execution_count": null,
   "source": [],
   "outputs": [],
   "metadata": {}
  },
  {
   "cell_type": "markdown",
   "source": [],
   "metadata": {}
  }
 ],
 "metadata": {
  "kernelspec": {
   "display_name": "Python 3",
   "language": "python",
   "name": "python3"
  },
  "language_info": {
   "codemirror_mode": {
    "name": "ipython",
    "version": 3
   },
   "file_extension": ".py",
   "mimetype": "text/x-python",
   "name": "python",
   "nbconvert_exporter": "python",
   "pygments_lexer": "ipython3",
   "version": "3.8.8"
  }
 },
 "nbformat": 4,
 "nbformat_minor": 5
}